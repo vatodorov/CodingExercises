{
 "cells": [
  {
   "cell_type": "code",
   "execution_count": 17,
   "metadata": {},
   "outputs": [
    {
     "name": "stdout",
     "output_type": "stream",
     "text": [
      "The calculator will now start. Get ready, set, go!\n",
      "8/2/2017\n",
      "Select a shape - C for circle or T for triangle: asdf\n",
      "Are you out of your mind... you've entered an invalid shape. \n",
      "Enter either C or T...\n"
     ]
    }
   ],
   "source": [
    "# Area Calculator of triangle and circle (Module 3 - Freeform project)\n",
    "\n",
    "from math import pi\n",
    "import time\n",
    "from datetime import datetime\n",
    "\n",
    "now = datetime.now()\n",
    "\n",
    "print(\"The calculator will now start. Get ready, set, go!\")\n",
    "print '%s/%s/%s' % (now.month, now.day, now.year)\n",
    "\n",
    "time.sleep(1)\n",
    "\n",
    "hint = \"Don't forget to include the correct units! \\nExiting...\"\n",
    "\n",
    "option = raw_input(\"Select a shape - C for circle or T for triangle: \").upper()\n",
    "\n",
    "if option == \"C\":\n",
    "    radius = float(raw_input(\"Enter the radius of the circle: \"))\n",
    "    area = pi * (radius ** 2)\n",
    "    \n",
    "    print(\"The pie is baking... \\nAre you ready to eat?\")\n",
    "    time.sleep(1)\n",
    "    print(\"The area of the circle is: %.2f. \\n%s\" % (area, hint))\n",
    "    \n",
    "elif option == \"T\":\n",
    "    base = float(raw_input(\"Enter the base of the triangle: \"))\n",
    "    height = float(raw_input(\"Enter the height of the triangle: \"))\n",
    "        \n",
    "    area = (base * height) / 2\n",
    "        \n",
    "    print(\"Uni Bi Tri...\")\n",
    "    time.sleep(1)\n",
    "    print(\"The area of the triangle is: %.2f. \\n%s\" % (area, hint))  \n",
    "        \n",
    "else:\n",
    "    print (\"Are you out of your mind... you've entered an invalid shape. \\nEnter either C or T...\")\n",
    "        "
   ]
  },
  {
   "cell_type": "code",
   "execution_count": null,
   "metadata": {
    "collapsed": true
   },
   "outputs": [],
   "source": [
    "# This is a Mad Libs story\n",
    "# It's the first time I'm doing anything like that so let's see what it looks like\n",
    "\n",
    "print \"Mad Libs has started\"\n",
    "\n",
    "input_character = raw_input(\"Enter character name: \")\n",
    "\n",
    "input_adjective1 = raw_input(\"Enter first adjective: \")\n",
    "input_adjective2 = raw_input(\"Enter second adjective: \")\n",
    "input_adjective3 = raw_input(\"Enter third adjective: \")\n",
    "\n",
    "input_verb1 = raw_input(\"Enter first verb: \")\n",
    "input_verb2 = raw_input(\"Enter second verb: \")\n",
    "input_verb3 = raw_input(\"Enter third verb: \")\n",
    "\n",
    "input_noun1 = raw_input(\"Enter first noun: \")\n",
    "input_noun2 = raw_input(\"Enter second noun: \")\n",
    "input_noun3 = raw_input(\"Enter third noun: \")\n",
    "input_noun4 = raw_input(\"Enter fourth noun: \")\n",
    "\n",
    "input_animal = raw_input(\"Enter an animal name: \")\n",
    "input_food = raw_input(\"Enter a food name: \")\n",
    "input_fruit = raw_input(\"Enter a fruit name: \")\n",
    "input_number = raw_input(\"Enter a number: \")\n",
    "input_superhero = raw_input(\"Enter a super hero name: \")\n",
    "input_country = raw_input(\"Enter a country name: \")\n",
    "input_dessert = raw_input(\"Enter a dessert: \")\n",
    "input_year = raw_input(\"Enter a year: \")\n",
    "\n",
    "\n",
    "#The template for the story\n",
    "STORY = \"This morning I woke up and felt %s because %s was going to finally %s over the big %s %s. On the other side of the %s were many %ss protesting to keep %s in stores. The crowd began to %s to the rhythm of the %s, which made all of the %ss very %s. %s tried to %s into the sewers and found %s rats. Needing help, %s quickly called %s. %s appeared and saved %s by flying to %s and dropping %s into a puddle of %s. %s then fell asleep and woke up in the year %s, in a world where %ss ruled the world.\"\n",
    "\n",
    "\n",
    "print STORY % (input_adjective1, input_character, input_verb1, input_adjective2, input_noun1, input_noun2, input_animal, input_food, input_verb2, input_noun3, input_fruit, input_adjective3, input_character, input_verb3, input_number, input_character, input_superhero, input_superhero, input_character, input_country, input_character, input_dessert, input_character, input_year, input_noun4)\n"
   ]
  },
  {
   "cell_type": "code",
   "execution_count": null,
   "metadata": {
    "collapsed": true
   },
   "outputs": [],
   "source": [
    "### Method 1 - remove odd numbers from list\n",
    "from itertools import compress\n",
    "\n",
    "def purify(num_list):\n",
    "    my_list_include = [x % 2 == 0 for x in num_list]\n",
    "    return list(compress(num_list, my_list_include))\n",
    "\n",
    "\n",
    "### Method 2 - remove odd numbers from list\n",
    "def purify(number):\n",
    "    return [x for x in number if x % 2 == 0]\n",
    "\n",
    "purify([1, 3, 5, 4])"
   ]
  },
  {
   "cell_type": "code",
   "execution_count": null,
   "metadata": {
    "collapsed": true
   },
   "outputs": [],
   "source": [
    "# Remove duplicates\n",
    "my_list = [1, 3, 4, 5, 5, 77, 7, 7, 77]\n",
    "list(set(my_list))\n",
    "\n",
    "\n",
    "def remove_duplicates(my_list):\n",
    "    return(list(set(my_list) - set([1, 2, 3, 55, 55])))\n",
    "\n",
    "remove_duplicates([1, 3, 4, 5, 5, 77, 7, 7, 77])"
   ]
  },
  {
   "cell_type": "code",
   "execution_count": 1,
   "metadata": {},
   "outputs": [
    {
     "name": "stdout",
     "output_type": "stream",
     "text": [
      "Hello Jessie how are you today?\n"
     ]
    }
   ],
   "source": [
    "def greetings(name):\n",
    "\n",
    "  print \"Hello \" + name + \" how are you today?\"\n",
    "  \n",
    "greetings(\"Jessie\")"
   ]
  },
  {
   "cell_type": "code",
   "execution_count": 2,
   "metadata": {},
   "outputs": [
    {
     "name": "stdout",
     "output_type": "stream",
     "text": [
      "<type 'int'>\n"
     ]
    }
   ],
   "source": [
    "print type(5)"
   ]
  },
  {
   "cell_type": "code",
   "execution_count": 3,
   "metadata": {},
   "outputs": [
    {
     "name": "stdout",
     "output_type": "stream",
     "text": [
      "The maximum possible value for both dice rolls is: 12\n",
      "Let's start...\n",
      "Enter a random number: 23\n",
      "The entered value is larger than the maximum value... \n",
      "Enter a smaller value\n"
     ]
    }
   ],
   "source": [
    "# Freeform project - Number Guess (Module 4 - Functions)\n",
    "\n",
    "# This is a random guess program\n",
    "# Wanna play a game? In this project, we'll build a program that rolls\n",
    "# a pair of dice and asks the user to guess a number. Based on the user's guess,\n",
    "# the program should determine a winner. If the user's guess is greater than the\n",
    "# total value of the dice roll, they win! Otherwise, the computer wins.\n",
    "\n",
    "\n",
    "import random\n",
    "import time\n",
    "\n",
    "\n",
    "def get_user_guess():\n",
    "    print(\"Let's start...\")\n",
    "    time.sleep(1)\n",
    "    user_guess = int(raw_input(\"Enter a random number: \"))\n",
    "    \n",
    "    return(user_guess)\n",
    "\n",
    "def roll_dice(number_of_sides):\n",
    "    first_roll = random.randint(1, number_of_sides)\n",
    "    second_roll = random.randint(1, number_of_sides)\n",
    "    max_val = number_of_sides * 2\n",
    "    \n",
    "    print(\"The maximum possible value for both dice rolls is: \" + str(max_val))\n",
    "    time.sleep(1)\n",
    "    user_guess = get_user_guess()\n",
    "    \n",
    "    if user_guess > max_val:\n",
    "        print(\"The entered value is larger than the maximum value... \\nEnter a smaller value\")\n",
    "        return\n",
    "    else:\n",
    "        print(\"Rolling...\")\n",
    "        time.sleep(1)\n",
    "        \n",
    "        print(\"Suspense.... drum roll\")\n",
    "        time.sleep(1)\n",
    "        \n",
    "        # Roll the dice twice and sum the rolls\n",
    "        print(\"The first dice roll is %d\") % (first_roll)\n",
    "        time.sleep(1)\n",
    "        print(\"The second dice roll is %d\") % (second_roll)\n",
    "        time.sleep(1)\n",
    "        \n",
    "        # Determine the winner\n",
    "        total_roll = first_roll + second_roll\n",
    "        print(\"The sum of both rolls is %d\") % (total_roll)\n",
    "        time.sleep(1)\n",
    "        \n",
    "        if user_guess > total_roll:\n",
    "            print(\"You won!\")\n",
    "            return\n",
    "        else:\n",
    "            print(\"You lost\")\n",
    "            return\n",
    "\n",
    "roll_dice(6)\n"
   ]
  },
  {
   "cell_type": "markdown",
   "metadata": {},
   "source": [
    "first_roll = 5\n",
    "print(\"The first roll is %d\") % (first_roll)\n"
   ]
  },
  {
   "cell_type": "code",
   "execution_count": 4,
   "metadata": {},
   "outputs": [
    {
     "data": {
      "text/plain": [
       "['green', 'blue', 'purple', 'yellow']"
      ]
     },
     "execution_count": 4,
     "metadata": {},
     "output_type": "execute_result"
    }
   ],
   "source": [
    "my_list = [\"green\", \"blue\", \"red\", \"yellow\"]\n",
    "my_list[2] = \"purple\"\n",
    "my_list"
   ]
  },
  {
   "cell_type": "code",
   "execution_count": 5,
   "metadata": {},
   "outputs": [
    {
     "name": "stdout",
     "output_type": "stream",
     "text": [
      "4\n"
     ]
    }
   ],
   "source": [
    "my_dict = {\"shirts\": 5, \"pants\": 4, \"shoes\": 2}\n",
    "print my_dict[\"pants\"]\n"
   ]
  },
  {
   "cell_type": "code",
   "execution_count": 9,
   "metadata": {},
   "outputs": [
    {
     "name": "stdout",
     "output_type": "stream",
     "text": [
      "Hello 0\n",
      "Hello 1\n",
      "Hello 2\n",
      "Hello 3\n",
      "Hello 4\n",
      "Hello 5\n",
      "Hello 6\n"
     ]
    }
   ],
   "source": [
    "import time\n",
    "def hello(x):\n",
    "    for item in range(0, len(x)):\n",
    "        item = \"Hello \" + str(item)\n",
    "        print(item)\n",
    "        time.sleep(1)\n",
    "\n",
    "\n",
    "        \n",
    "        hello(\"georgie\")"
   ]
  },
  {
   "cell_type": "code",
   "execution_count": 27,
   "metadata": {},
   "outputs": [
    {
     "name": "stdout",
     "output_type": "stream",
     "text": [
      "[8, 4, 2]\n"
     ]
    }
   ],
   "source": [
    "my_list = [8, 6, 4, 2]\n",
    "my_list.pop(1)\n",
    "\n",
    "print(my_list)"
   ]
  },
  {
   "cell_type": "code",
   "execution_count": 1,
   "metadata": {
    "collapsed": true
   },
   "outputs": [],
   "source": [
    "suitcase = [] \n",
    "suitcase.append(\"sunglasses\")\n",
    "\n",
    "# Your code here!\n",
    "suitcase.append(\"bathtub\")\n",
    "suitcase.append(\"swimsuit\")\n",
    "suitcase.append(\"camera\")"
   ]
  },
  {
   "cell_type": "code",
   "execution_count": 4,
   "metadata": {},
   "outputs": [
    {
     "data": {
      "text/plain": [
       "4"
      ]
     },
     "execution_count": 4,
     "metadata": {},
     "output_type": "execute_result"
    }
   ],
   "source": [
    "len(suitcase)"
   ]
  },
  {
   "cell_type": "code",
   "execution_count": 18,
   "metadata": {},
   "outputs": [
    {
     "name": "stdout",
     "output_type": "stream",
     "text": [
      "Let's play Rock-Paper-Scissors!\n",
      "Enter your selection... \n",
      "Choose between R, P or S \n",
      "scissors\n",
      "Make sure you choose between the values R, P or S \n",
      "p\n",
      "You selected: P\n",
      "Computer selecting...\n",
      "Computer selected: R\n",
      "You won!\n"
     ]
    }
   ],
   "source": [
    "# Rock, Paper, Scissors (Module 5 - Lists and dictionaries)\n",
    "# This is a program in which the user will play rock, paper scissors against the computer\n",
    "\n",
    "%matplotlib inline\n",
    "\n",
    "import random\n",
    "import time\n",
    "import matplotlib\n",
    "import numpy as np\n",
    "import matplotlib.pyplot as plt\n",
    "\n",
    "#from IPython.display import Image\n",
    "#Image(filename='test.png') \n",
    "\n",
    "\n",
    "# Create list with the possible outcomes\n",
    "options = [\"ROCK\", \"PAPER\", \"SCISSORS\"]\n",
    "\n",
    "LOSE_GAME_MESSAGE = \"You lost!\"\n",
    "WIN_GAME_MESSAGE = \"You won!\"\n",
    "\n",
    "\n",
    "def decide_winner(user_choice, computer_choice):\n",
    "    print(\"You selected: %s\") % (user_choice)\n",
    "    print(\"Computer selecting...\")\n",
    "    time.sleep(1)\n",
    "    \n",
    "    print(\"Computer selected: %s\") % (computer_choice)\n",
    "    time.sleep(1)\n",
    "    \n",
    "    user_choice_index = options.index(user_choice)\n",
    "    computer_choice_index = options.index(computer_choice)\n",
    "    \n",
    "    if user_choice_index == computer_choice_index:\n",
    "        print(\"It's a tie!\")\n",
    "\n",
    "# Scenario 1: User = rock and Computer = scissors\n",
    "    elif user_choice_index == 0 and computer_choice_index == 2:\n",
    "        print WIN_GAME_MESSAGE\n",
    "\n",
    "# Scenario 2: User = scissors and Computer = paper\n",
    "    elif user_choice_index == 2 and computer_choice_index == 1:\n",
    "        print WIN_GAME_MESSAGE\n",
    "\n",
    "# Scenario 3: User = paper and Computer = rock\n",
    "    elif user_choice_index == 1 and computer_choice_index == 0:\n",
    "        print WIN_GAME_MESSAGE\n",
    "\n",
    "    elif user_choice_index > 2:\n",
    "        print(\"You've entered an invalid choice!\")\n",
    "        return\n",
    "\n",
    "    else:\n",
    "        print(\"You lose!\")\n",
    "        \n",
    "def play_RPS():\n",
    "    print(\"Let's play Rock-Paper-Scissors!\")\n",
    "    time.sleep(1)\n",
    "    \n",
    "    user_choice = raw_input(\"Enter your selection... \\nChoose between R, P or S \\n\").upper()\n",
    "    time.sleep(1)\n",
    "    \n",
    "    while user_choice != \"R\" and user_choice != \"P\" and user_choice != \"S\":\n",
    "        user_choice = raw_input(\"Make sure you choose between the values R, P or S \\n\").upper()\n",
    "\n",
    "    computer_choice = options[random.randint(0, (len(options) - 1))]\n",
    "    decide_winner(user_choice, computer_choice)\n",
    "\n",
    "play_RPS()\n",
    "\n"
   ]
  },
  {
   "cell_type": "raw",
   "metadata": {},
   "source": []
  },
  {
   "cell_type": "code",
   "execution_count": null,
   "metadata": {
    "collapsed": true
   },
   "outputs": [],
   "source": []
  },
  {
   "cell_type": "code",
   "execution_count": null,
   "metadata": {
    "collapsed": true
   },
   "outputs": [],
   "source": []
  },
  {
   "cell_type": "code",
   "execution_count": 9,
   "metadata": {},
   "outputs": [
    {
     "name": "stdout",
     "output_type": "stream",
     "text": [
      "Guess my number between 1 and 10: 4\n",
      "2 more tries... Try again\n",
      "Guess my number between 1 and 10: 3\n",
      "1 more tries... Try again\n",
      "Guess my number between 1 and 10: 3\n",
      "0 more tries... Try again\n",
      "You lose.\n"
     ]
    }
   ],
   "source": [
    "from random import randint\n",
    "import time\n",
    "\n",
    "# Generates a number from 1 through 10 inclusive\n",
    "random_number = randint(1, 10)\n",
    "\n",
    "guesses_left = 3\n",
    "# Start your game!\n",
    "\n",
    "while guesses_left > 0:\n",
    "    guess = int(raw_input(\"Guess my number between 1 and 10: \"))\n",
    "    time.sleep(1)\n",
    "    if guess == random_number:\n",
    "        print(\"You win - you guessed my number\")\n",
    "        break\n",
    "    guesses_left -= 1\n",
    "    print(\"%s more tries... Try again\") % (str(guesses_left))\n",
    "    time.sleep(1)\n",
    "    \n",
    "else:\n",
    "    print(\"You lose.\")"
   ]
  },
  {
   "cell_type": "code",
   "execution_count": 16,
   "metadata": {},
   "outputs": [
    {
     "name": "stdout",
     "output_type": "stream",
     "text": [
      "X\n",
      "  b i r d   i n   t h e   h X\n",
      "n d . . .\n"
     ]
    }
   ],
   "source": [
    "phrase = \"A bird in the hand...\"\n",
    "\n",
    "# Add your for loop\n",
    "for char in phrase:\n",
    "    if char == \"A\" or char == \"a\":\n",
    "        print(\"X\")\n",
    "    else:\n",
    "        print char,"
   ]
  },
  {
   "cell_type": "code",
   "execution_count": 179,
   "metadata": {},
   "outputs": [
    {
     "name": "stdout",
     "output_type": "stream",
     "text": [
      "11\n"
     ]
    }
   ],
   "source": [
    "def digit_sum(n):\n",
    "    digits = [int(x) for x in str(n)]\n",
    "    print sum(digits)\n",
    "\n",
    "digit_sum(434)"
   ]
  },
  {
   "cell_type": "code",
   "execution_count": 1,
   "metadata": {},
   "outputs": [
    {
     "data": {
      "text/plain": [
       "402387260077093773543702433923003985719374864210714632543799910429938512398629020592044208486969404800479988610197196058631666872994808558901323829669944590997424504087073759918823627727188732519779505950995276120874975462497043601418278094646496291056393887437886487337119181045825783647849977012476632889835955735432513185323958463075557409114262417474349347553428646576611667797396668820291207379143853719588249808126867838374559731746136085379534524221586593201928090878297308431392844403281231558611036976801357304216168747609675871348312025478589320767169132448426236131412508780208000261683151027341827977704784635868170164365024153691398281264810213092761244896359928705114964975419909342221566832572080821333186116811553615836546984046708975602900950537616475847728421889679646244945160765353408198901385442487984959953319101723355556602139450399736280750137837615307127761926849034352625200015888535147331611702103968175921510907788019393178114194545257223865541461062892187960223838971476088506276862967146674697562911234082439208160153780889893964518263243671616762179168909779911903754031274622289988005195444414282012187361745992642956581746628302955570299024324153181617210465832036786906117260158783520751516284225540265170483304226143974286933061690897968482590125458327168226458066526769958652682272807075781391858178889652208164348344825993266043367660176999612831860788386150279465955131156552036093988180612138558600301435694527224206344631797460594682573103790084024432438465657245014402821885252470935190620929023136493273497565513958720559654228749774011413346962715422845862377387538230483865688976461927383814900140767310446640259899490222221765904339901886018566526485061799702356193897017860040811889729918311021171229845901641921068884387121855646124960798722908519296819372388642614839657382291123125024186649353143970137428531926649875337218940694281434118520158014123344828015051399694290153483077644569099073152433278288269864602789864321139083506217095002597389863554277196742822248757586765752344220207573630569498825087968928162753848863396909959826280956121450994871701244516461260379029309120889086942028510640182154399457156805941872748998094254742173582401063677404595741785160829230135358081840096996372524230560855903700624271243416909004153690105933983835777939410970027753472000000000000000000000000000000000000000000000000000000000000000000000000000000000000000000000000000000000000000000000000000000000000000000000000000000000000000000000000000000000000000000000000000000000000000000000000000000000000000000000000000000000L"
      ]
     },
     "execution_count": 1,
     "metadata": {},
     "output_type": "execute_result"
    }
   ],
   "source": [
    "import math\n",
    "\n",
    "def is_prime(n):\n",
    "    return math.factorial(n)\n",
    "\n",
    "is_prime(1000)"
   ]
  },
  {
   "cell_type": "code",
   "execution_count": 5,
   "metadata": {},
   "outputs": [
    {
     "data": {
      "text/plain": [
       "True"
      ]
     },
     "execution_count": 5,
     "metadata": {},
     "output_type": "execute_result"
    }
   ],
   "source": [
    "## Define if a number is prime\n",
    "\n",
    "def is_prime(x):\n",
    "    if x < 2:\n",
    "        return False\n",
    "    for n in range(2, x - 1):\n",
    "        if x % n == 0:\n",
    "            return False\n",
    "    return True\n",
    "\n",
    "\n",
    "is_prime(2)"
   ]
  },
  {
   "cell_type": "code",
   "execution_count": 189,
   "metadata": {},
   "outputs": [
    {
     "data": {
      "text/plain": [
       "'OLLEH'"
      ]
     },
     "execution_count": 189,
     "metadata": {},
     "output_type": "execute_result"
    }
   ],
   "source": [
    "# inverse a string\n",
    "\n",
    "def reverse(text):\n",
    "    s = \"\"\n",
    "    for i in range(len(text)):\n",
    "        s += text[-(i + 1)]\n",
    "\n",
    "    return s\n",
    "    \n",
    "reverse(\"HELLO\")"
   ]
  },
  {
   "cell_type": "code",
   "execution_count": 79,
   "metadata": {},
   "outputs": [
    {
     "data": {
      "text/plain": [
       "7"
      ]
     },
     "execution_count": 79,
     "metadata": {},
     "output_type": "execute_result"
    }
   ],
   "source": [
    "score = {\"a\": 1, \"c\": 3, \"b\": 3, \"e\": 1, \"d\": 2, \"g\": 2, \n",
    "         \"f\": 4, \"i\": 1, \"h\": 4, \"k\": 5, \"j\": 8, \"m\": 3, \n",
    "         \"l\": 1, \"o\": 1, \"n\": 1, \"q\": 10, \"p\": 3, \"s\": 1, \n",
    "         \"r\": 1, \"u\": 1, \"t\": 1, \"w\": 4, \"v\": 4, \"y\": 4, \n",
    "         \"x\": 8, \"z\": 10}\n",
    "\n",
    "def scrabble_score(word):\n",
    "    final_score = 0\n",
    "    for i in range(0, len(word)):\n",
    "        s = word[i]\n",
    "        final_score += score.get(s.lower())\n",
    "    return final_score\n",
    "        \n",
    "scrabble_score(\"AcB\")"
   ]
  },
  {
   "cell_type": "code",
   "execution_count": 7,
   "metadata": {},
   "outputs": [
    {
     "data": {
      "text/plain": [
       "'this **** is wack ****'"
      ]
     },
     "execution_count": 7,
     "metadata": {},
     "output_type": "execute_result"
    }
   ],
   "source": [
    "# censor - exercise #10\n",
    "# remove \n",
    "def censor(text, word):\n",
    "    word = word.lower()\n",
    "    return text.lower().replace(word, \"*\" * len(word))\n",
    "\n",
    "\n",
    "censor(\"this HACK is wack Hack\", \"hack\")"
   ]
  },
  {
   "cell_type": "code",
   "execution_count": 32,
   "metadata": {},
   "outputs": [
    {
     "data": {
      "text/plain": [
       "([1, 1, 1], 3)"
      ]
     },
     "execution_count": 32,
     "metadata": {},
     "output_type": "execute_result"
    }
   ],
   "source": [
    "def count(sequence, item):\n",
    "    collect = []\n",
    "    for i in range(0, len(sequence)):\n",
    "        if item == sequence[i]:\n",
    "            collect.append(1)\n",
    "    return sum(collect)\n",
    "    \n",
    "count([1, 2, 1, 1], 1)"
   ]
  },
  {
   "cell_type": "code",
   "execution_count": 88,
   "metadata": {},
   "outputs": [
    {
     "data": {
      "text/plain": [
       "4.5"
      ]
     },
     "execution_count": 88,
     "metadata": {},
     "output_type": "execute_result"
    }
   ],
   "source": [
    "# find the median - note the use of Decimal and math.ceil\n",
    "# more on the decimal package here: https://docs.python.org/3/library/decimal.html\n",
    "\n",
    "import math\n",
    "\n",
    "def median(my_list):\n",
    "    my_list.sort()\n",
    "\n",
    "    if len(my_list) % 2 == 1:\n",
    "        list_index = int(math.ceil(len(my_list) / float(2))) - 1\n",
    "        median = my_list[list_index]\n",
    "    else:\n",
    "        list_index = int(math.ceil(len(my_list) / float(2))) - 1\n",
    "        median = (my_list[list_index] + my_list[list_index + 1]) / float(2)\n",
    "     \n",
    "    return median\n",
    "\n",
    "\n",
    "median([1, 2, 3, 4, 5, 6, 7, 8])"
   ]
  },
  {
   "cell_type": "code",
   "execution_count": 20,
   "metadata": {},
   "outputs": [
    {
     "name": "stdout",
     "output_type": "stream",
     "text": [
      "Hello, Valentin!\n",
      "It's a beautiful day outside\n",
      "Your calendar is opening now\n",
      "\n",
      "Today is Tuesday, 15 Aug, 2017\n",
      "And the time is 03:45:45\n",
      "What would you like to do?\n",
      "What do you want to do wiht the calendar?\n",
      "Enter A to Add, U to Update, V to View, D to Delete, X to Exit: a\n",
      "Enter a new event to the calendar: asdf\n",
      "Enter date (MM/DD/YYYY): 06/05/2018\n",
      "The event was successfully added to the calendar\n",
      "{'06/05/2018': 'asdf'}\n",
      "What do you want to do wiht the calendar?\n",
      "Enter A to Add, U to Update, V to View, D to Delete, X to Exit: v\n",
      "Here are your events:\n",
      "{'06/05/2018': 'asdf'}\n",
      "What do you want to do wiht the calendar?\n",
      "Enter A to Add, U to Update, V to View, D to Delete, X to Exit: x\n"
     ]
    }
   ],
   "source": [
    "## Lesson 8\n",
    "## Freeform project: Develop a Command Line Calendar\n",
    "## Requirements:\n",
    "# - View the calendar\n",
    "# - Add an event to the calendar\n",
    "# - Update an existing event\n",
    "# - Delete an existing event\n",
    "\n",
    "\n",
    "import time\n",
    "\n",
    "user_name = \"Valentin\"\n",
    "\n",
    "# create an empty dictionary to hold the dates, and any events we need to add on each date to the calendar\n",
    "calendar = {}\n",
    "\n",
    "def welcome():\n",
    "    print \"Hello, \" + user_name + \"!\\nIt's a beautiful day outside\\nYour calendar is opening now\"\n",
    "    time.sleep(1)\n",
    "    \n",
    "    print \"\\nToday is \" + time.strftime(\"%A, %d %b, %Y\")\n",
    "    print \"And the time is \" + time.strftime(\"%I:%M:%S\")\n",
    "    time.sleep(1)\n",
    "    \n",
    "    print \"What would you like to do?\"\n",
    "    \n",
    "def start_calendar():\n",
    "    welcome()\n",
    "    start = True\n",
    "    while start:\n",
    "        user_choice = raw_input(\"What do you want to do with the calendar?\\nEnter A to Add, U to Update, V to View, D to Delete, X to Exit: \").upper()\n",
    "        \n",
    "# Action if the user wants to View the calendar\n",
    "        if user_choice == \"V\":\n",
    "            if len(calendar.keys()) < 1:\n",
    "                print \"You have no events in the calendar... go hike in the forest\"\n",
    "            else:\n",
    "                print \"Here are your events:\\n\", calendar\n",
    "\n",
    "# Action if the user wants to Update events in the calendar\n",
    "        elif user_choice == \"U\":\n",
    "            date = raw_input(\"What date to update? \")\n",
    "            update = raw_input(\"Enter the udpate: \")\n",
    "            \n",
    "            calendar[date] = update\n",
    "            print \"Update successful\\n\", calendar\n",
    "        \n",
    "# Action if the user wants to Add events to the calendar\n",
    "        elif user_choice == \"A\":\n",
    "            event = raw_input(\"Enter a new event to the calendar: \")\n",
    "            date = raw_input(\"Enter date (MM/DD/YYYY): \")\n",
    "            \n",
    "            if len(date) > 10 or (int(date[6:]) < int(time.strftime(\"%Y\"))):\n",
    "                print \"The entered date is for a prior year\"\n",
    "                try_again = raw_input(\"Try Again? Y for Yes, N for No: \").upper()\n",
    "                \n",
    "                if try_again == \"Y\":\n",
    "                    continue\n",
    "                else:\n",
    "                    start = False\n",
    "                    \n",
    "            else:\n",
    "                calendar[date] = event\n",
    "                print \"The event was successfully added to the calendar\\n\", calendar\n",
    "                \n",
    "# Action if the user wants to Delete events from the calendar\n",
    "        elif user_choice == \"D\":\n",
    "            if len(calendar.keys()) < 1:\n",
    "                print \"The calendar doesn't have any events\"\n",
    "                \n",
    "            else:\n",
    "                event = raw_input(\"Which event would you like to delete: \")\n",
    "                \n",
    "            # In order to delete the event, we're going to have to search for it in the calendar. This will involve iterating through the dates (keys) and finding the matching event (value).\n",
    "                for date in calendar.keys():\n",
    "                    if event == calendar[event]:\n",
    "                        del calendar[date]\n",
    "                        print \"The event was successfully deleted!\"\n",
    "                          \n",
    "                    else:\n",
    "                        print \"An incorrect event was entered\"\n",
    "\n",
    "# Action if the user wants to Exit the calendar\n",
    "        elif user_choice == \"X\":\n",
    "            start = False\n",
    "\n",
    "# If the user enters garbage\n",
    "        else:\n",
    "            print \"You have entered an incorrect command\"\n",
    "            time.sleep(1)\n",
    "            start = False\n",
    "\n",
    "                            \n",
    "                            \n",
    "start_calendar()"
   ]
  },
  {
   "cell_type": "code",
   "execution_count": 1,
   "metadata": {},
   "outputs": [
    {
     "name": "stdout",
     "output_type": "stream",
     "text": [
      "1045.5\n",
      "1045.5\n",
      "80.4230769231\n",
      "1045.5\n",
      "80.4230769231\n",
      "334.071005917\n",
      "1045.5\n",
      "80.4230769231\n",
      "334.071005917\n",
      "100\n",
      "100\n",
      "90\n",
      "40\n",
      "80\n",
      "100\n",
      "85\n",
      "70\n",
      "90\n",
      "65\n",
      "90\n",
      "85\n",
      "50.5\n",
      "18.2776094147\n",
      "18.2776094147\n"
     ]
    }
   ],
   "source": [
    "# Module 9 - Exam statistics\n",
    "\n",
    "grades = [100, 100, 90, 40, 80, 100, 85, 70, 90, 65, 90, 85, 50.5]\n",
    "\n",
    "# This is a function to calculate the total sum of grades\n",
    "def grades_sum(scores):\n",
    "    total = 0\n",
    "    for grades in scores:\n",
    "        total += grades\n",
    "    print total\n",
    "    return total\n",
    "\n",
    "grades_sum(grades)\n",
    "\n",
    "\n",
    "# This is a function to calculate the average of grades\n",
    "def grades_average(grades_input):\n",
    "    grades_total_sum = grades_sum(grades_input)\n",
    "    grades_average = grades_total_sum/float(len(grades_input))\n",
    "    print grades_average\n",
    "    return grades_average\n",
    "\n",
    "grades_average(grades)\n",
    "\n",
    "\n",
    "# Calculate variance\n",
    "def grades_variance(scores):\n",
    "    average = grades_average(scores)\n",
    "    variance = 0\n",
    "    \n",
    "    for score in scores:\n",
    "        variance += (average - score) ** 2\n",
    "    sample_variance = variance / (len(scores))\n",
    "    print sample_variance\n",
    "    return sample_variance\n",
    "\n",
    "grades_variance(grades)\n",
    "\n",
    "\n",
    "# Calculate standard deviation\n",
    "def grades_std_deviation(variance):\n",
    "    sample_std_dev = variance ** 0.5\n",
    "    print sample_std_dev\n",
    "    return sample_std_dev\n",
    "\n",
    "variance = grades_variance(grades)\n",
    "\n",
    "\n",
    "# Print all grades\n",
    "for grades_individual in grades:\n",
    "    print grades_individual\n",
    "\n",
    "print grades_std_deviation(variance)   \n",
    "\n",
    "\n"
   ]
  },
  {
   "cell_type": "code",
   "execution_count": 2,
   "metadata": {},
   "outputs": [
    {
     "name": "stdout",
     "output_type": "stream",
     "text": [
      "[8, 64, 216, 512, 1000]\n"
     ]
    }
   ],
   "source": [
    "## List comprehension\n",
    "cubes_by_four = [x ** 3 for x in range(1,11) if (x ** 3) % 4 == 0]\n",
    "print cubes_by_four\n"
   ]
  },
  {
   "cell_type": "code",
   "execution_count": 2,
   "metadata": {},
   "outputs": [
    {
     "name": "stdout",
     "output_type": "stream",
     "text": [
      "[100, 90, 80, 70, 60, 50, 40, 30, 20, 10, 0]\n",
      "[1, 2, 3, 4, 5, 6, 7, 8, 9, 10, 11, 12, 13, 14, 15, 16, 17, 18, 19, 20, 21] [1, 3, 5, 7, 9, 11, 13, 15, 17, 19, 21] [21, 20, 19, 18, 17, 16, 15, 14, 13, 12, 11, 10, 9, 8, 7, 6, 5, 4, 3, 2, 1]\n"
     ]
    }
   ],
   "source": [
    "# List slicing\n",
    "to_21 = range(1, 22)\n",
    "odds = to_21[::2]\n",
    "\n",
    "# Reverse the list\n",
    "backwards = to_21[::-1]\n",
    "\n",
    "# Backwards by tens\n",
    "to_one_hundred = range(101)\n",
    "print to_one_hundred[ : : -10]\n",
    "\n",
    "print to_21, odds, backwards\n",
    "\n",
    "\n",
    "# Use a list comprehension to create a list, threes_and_fives, that consists only of the numbers between 1 and 15 (inclusive) that are evenly divisible by 3 or 5\n",
    "threes_and_fives = [x for x in range (1, 16) if x % 3 == 0 or x % 5 == 0]"
   ]
  },
  {
   "cell_type": "code",
   "execution_count": 3,
   "metadata": {},
   "outputs": [
    {
     "name": "stdout",
     "output_type": "stream",
     "text": [
      "[0, 3, 6, 9, 12, 15]\n"
     ]
    }
   ],
   "source": [
    "# Functional programming\n",
    "\n",
    "# lambda creates an anonymous function\n",
    "lambda x: x % 3 == 0\n",
    "\n",
    "# This function is the same as using lambda above\n",
    "def by_three(x):\n",
    "    return x % 3 == 0\n",
    "\n",
    "\n",
    "# Use filter to print out the result of an anonymous function\n",
    "my_list = range(16)\n",
    "print filter(lambda x: x % 3 == 0, my_list)\n"
   ]
  },
  {
   "cell_type": "code",
   "execution_count": 1,
   "metadata": {},
   "outputs": [
    {
     "name": "stdout",
     "output_type": "stream",
     "text": [
      "['Python']\n"
     ]
    }
   ],
   "source": [
    "languages = [\"HTML\", \"JavaScript\", \"Python\", \"Ruby\"]\n",
    "\n",
    "# Add arguments to the filter()\n",
    "print filter(lambda x: x == \"Python\", languages)\n",
    "\n",
    "# Print only the values >= 30 and <= 70\n",
    "squares = [x ** 2 for x in range (1, 11)]\n",
    "print filter(lambda x: x >= 30 and x <= 70, squares)"
   ]
  },
  {
   "cell_type": "code",
   "execution_count": 4,
   "metadata": {},
   "outputs": [
    {
     "name": "stdout",
     "output_type": "stream",
     "text": [
      "I am the secret message!\n"
     ]
    }
   ],
   "source": [
    "# Remove the \"X\"\n",
    "garbled = \"!XeXgXaXsXsXeXmX XtXeXrXcXeXsX XeXhXtX XmXaX XI\"\n",
    "print garbled[::-2]\n",
    "\n",
    "\n",
    "garbled = \"IXXX aXXmX aXXXnXoXXXXXtXhXeXXXXrX sXXXXeXcXXXrXeXt mXXeXsXXXsXaXXXXXXgXeX!XX\"\n",
    "message = filter(lambda x: x != \"X\", garbled)\n",
    "print message\n"
   ]
  },
  {
   "cell_type": "code",
   "execution_count": 29,
   "metadata": {},
   "outputs": [
    {
     "name": "stdout",
     "output_type": "stream",
     "text": [
      "0b100000\n",
      "0b111110\n",
      "0b11110\n"
     ]
    }
   ],
   "source": [
    "# Bitwise operations\n",
    "a = 0b100100\n",
    "b = 0b111010\n",
    "\n",
    "# Bitwise AND - bit is on only if 1 & 1 are in both bits, otherwise 0\n",
    "print bin(a & b)\n",
    "\n",
    "# Bitwise OR - bit is on, if at least one of the bits contains 1, otherwise 0\n",
    "print bin(a | b)\n",
    "\n",
    "# Bitwise XOR (excusie OR) - if both bits contain 1, they are removed\n",
    "print bin(a ^ b)"
   ]
  },
  {
   "cell_type": "code",
   "execution_count": 32,
   "metadata": {},
   "outputs": [
    {
     "name": "stdout",
     "output_type": "stream",
     "text": [
      "0b1000000000 0b1000000101\n"
     ]
    }
   ],
   "source": [
    "a = 0b101 \n",
    "# Tenth bit mask\n",
    "mask = (0b1 << 9)  # One less than ten \n",
    "print bin(mask), bin(a ^ mask)"
   ]
  },
  {
   "cell_type": "code",
   "execution_count": 42,
   "metadata": {},
   "outputs": [
    {
     "data": {
      "text/plain": [
       "'0b10000010'"
      ]
     },
     "execution_count": 42,
     "metadata": {},
     "output_type": "execute_result"
    }
   ],
   "source": [
    "def flip_bit(number, n):\n",
    "    mask = 0b1 << number\n",
    "    result = n ^ mask\n",
    "    \n",
    "    return bin(result)\n",
    "\n",
    "\n",
    "flip_bit(7,2)"
   ]
  },
  {
   "cell_type": "code",
   "execution_count": 10,
   "metadata": {},
   "outputs": [
    {
     "name": "stdout",
     "output_type": "stream",
     "text": [
      "Enter 1 to convert RGB to HEX.\n",
      "Enter 2 to convert HEX to RGB.\n",
      "Enter X to Exit: 1\n",
      "Converting RGB to HEX...\n",
      "Enter a value for red in the range 0 - 255: 102\n",
      "Enter a value for green in the range 0 - 255: 34\n",
      "Enter a value for blue in the range 0 - 255: 123\n",
      "66227B\n"
     ]
    },
    {
     "ename": "KeyboardInterrupt",
     "evalue": "",
     "output_type": "error",
     "traceback": [
      "\u001b[0;31m---------------------------------------------------------------------------\u001b[0m",
      "\u001b[0;31mKeyboardInterrupt\u001b[0m                         Traceback (most recent call last)",
      "\u001b[0;32m<ipython-input-10-bd09d9162de9>\u001b[0m in \u001b[0;36m<module>\u001b[0;34m()\u001b[0m\n\u001b[1;32m     82\u001b[0m \u001b[0;34m\u001b[0m\u001b[0m\n\u001b[1;32m     83\u001b[0m \u001b[0;34m\u001b[0m\u001b[0m\n\u001b[0;32m---> 84\u001b[0;31m \u001b[0mconvert\u001b[0m\u001b[0;34m(\u001b[0m\u001b[0;34m)\u001b[0m\u001b[0;34m\u001b[0m\u001b[0m\n\u001b[0m",
      "\u001b[0;32m<ipython-input-10-bd09d9162de9>\u001b[0m in \u001b[0;36mconvert\u001b[0;34m()\u001b[0m\n\u001b[1;32m     63\u001b[0m \u001b[0;32mdef\u001b[0m \u001b[0mconvert\u001b[0m\u001b[0;34m(\u001b[0m\u001b[0;34m)\u001b[0m\u001b[0;34m:\u001b[0m\u001b[0;34m\u001b[0m\u001b[0m\n\u001b[1;32m     64\u001b[0m     \u001b[0;32mwhile\u001b[0m \u001b[0mTrue\u001b[0m\u001b[0;34m:\u001b[0m\u001b[0;34m\u001b[0m\u001b[0m\n\u001b[0;32m---> 65\u001b[0;31m         \u001b[0moption\u001b[0m \u001b[0;34m=\u001b[0m \u001b[0mraw_input\u001b[0m\u001b[0;34m(\u001b[0m\u001b[0;34m\"Enter 1 to convert RGB to HEX.\\nEnter 2 to convert HEX to RGB.\\nEnter X to Exit: \"\u001b[0m\u001b[0;34m)\u001b[0m\u001b[0;34m.\u001b[0m\u001b[0mlower\u001b[0m\u001b[0;34m(\u001b[0m\u001b[0;34m)\u001b[0m\u001b[0;34m\u001b[0m\u001b[0m\n\u001b[0m\u001b[1;32m     66\u001b[0m \u001b[0;34m\u001b[0m\u001b[0m\n\u001b[1;32m     67\u001b[0m         \u001b[0;32mif\u001b[0m \u001b[0moption\u001b[0m \u001b[0;34m==\u001b[0m \u001b[0;34m\"1\"\u001b[0m\u001b[0;34m:\u001b[0m\u001b[0;34m\u001b[0m\u001b[0m\n",
      "\u001b[0;32m/Users/valentin/anaconda/envs/py27/lib/python2.7/site-packages/ipykernel/kernelbase.pyc\u001b[0m in \u001b[0;36mraw_input\u001b[0;34m(self, prompt)\u001b[0m\n\u001b[1;32m    703\u001b[0m             \u001b[0mself\u001b[0m\u001b[0;34m.\u001b[0m\u001b[0m_parent_ident\u001b[0m\u001b[0;34m,\u001b[0m\u001b[0;34m\u001b[0m\u001b[0m\n\u001b[1;32m    704\u001b[0m             \u001b[0mself\u001b[0m\u001b[0;34m.\u001b[0m\u001b[0m_parent_header\u001b[0m\u001b[0;34m,\u001b[0m\u001b[0;34m\u001b[0m\u001b[0m\n\u001b[0;32m--> 705\u001b[0;31m             \u001b[0mpassword\u001b[0m\u001b[0;34m=\u001b[0m\u001b[0mFalse\u001b[0m\u001b[0;34m,\u001b[0m\u001b[0;34m\u001b[0m\u001b[0m\n\u001b[0m\u001b[1;32m    706\u001b[0m         )\n\u001b[1;32m    707\u001b[0m \u001b[0;34m\u001b[0m\u001b[0m\n",
      "\u001b[0;32m/Users/valentin/anaconda/envs/py27/lib/python2.7/site-packages/ipykernel/kernelbase.pyc\u001b[0m in \u001b[0;36m_input_request\u001b[0;34m(self, prompt, ident, parent, password)\u001b[0m\n\u001b[1;32m    733\u001b[0m             \u001b[0;32mexcept\u001b[0m \u001b[0mKeyboardInterrupt\u001b[0m\u001b[0;34m:\u001b[0m\u001b[0;34m\u001b[0m\u001b[0m\n\u001b[1;32m    734\u001b[0m                 \u001b[0;31m# re-raise KeyboardInterrupt, to truncate traceback\u001b[0m\u001b[0;34m\u001b[0m\u001b[0;34m\u001b[0m\u001b[0m\n\u001b[0;32m--> 735\u001b[0;31m                 \u001b[0;32mraise\u001b[0m \u001b[0mKeyboardInterrupt\u001b[0m\u001b[0;34m\u001b[0m\u001b[0m\n\u001b[0m\u001b[1;32m    736\u001b[0m             \u001b[0;32melse\u001b[0m\u001b[0;34m:\u001b[0m\u001b[0;34m\u001b[0m\u001b[0m\n\u001b[1;32m    737\u001b[0m                 \u001b[0;32mbreak\u001b[0m\u001b[0;34m\u001b[0m\u001b[0m\n",
      "\u001b[0;31mKeyboardInterrupt\u001b[0m: "
     ]
    }
   ],
   "source": [
    "## Module 10 - Freeform project\n",
    "## RGB-HEX Converter\n",
    "# In this project, we'll use Bitwise operators to build a calculator that can convert RGB values to Hexadecimal (hex) values, and vice-versa.\n",
    "# We'll add three methods to the project:\n",
    "# A method to convert RGB to Hex\n",
    "# A method to convert Hex to RGB\n",
    "# A method that starts the prompt cycle\n",
    "\n",
    "import time\n",
    "\n",
    "# Method to convert RGB to HEX values\n",
    "def rgb_hex():\n",
    "    invalid_msg_rgb = \"You have entered an invalid value. You need to enter a value in the range 0 - 255\"\n",
    "    \n",
    "    red = int(raw_input(\"Enter a value for red in the range 0 - 255: \"))\n",
    "    if (red < 0 and red > 255):\n",
    "        print invalid_msg_rgb\n",
    "        return\n",
    "    \n",
    "    green = int(raw_input(\"Enter a value for green in the range 0 - 255: \"))\n",
    "    if (green < 0 and green > 255):\n",
    "        print invalid_msg_rgb\n",
    "        return\n",
    "\n",
    "    blue = int(raw_input(\"Enter a value for blue in the range 0 - 255: \"))\n",
    "    if (blue < 0 and blue > 255):\n",
    "        print invalid_msg_rgb\n",
    "        return\n",
    "\n",
    "# Set it equal to the sum of shifting red to left by 16 bits, shifting green to left by 8 bits, and blue.\n",
    "    val = (red << 16) + (green << 8) + blue\n",
    "\n",
    "    print \"%s\" % (hex(val)[2:]).upper()\n",
    "\n",
    "    \n",
    "# Method to convert HEX values to RGB\n",
    "def hex_rgb():\n",
    "    invalid_msg_hex = \"You have entered an invalude hexadecimal value. Your entry string should be six characters and should be a combination of the digits 0 - 9 and letters a - f: \"\n",
    "    \n",
    "    hex_val = raw_input(\"Enter a hexadecimal value: \")\n",
    "    if len(hex_val) != 6:\n",
    "        print invalid_msg_hex\n",
    "        return\n",
    "    \n",
    "    else:\n",
    "        hex_val = int(hex_val, 16)\n",
    "    \n",
    "    # The variable two_hex_digits represents two hexadecimal digits. This will return the first RGB value (from right to left) of blue (B).\n",
    "    two_hex_digits = 2 ** 8\n",
    "    \n",
    "    blue = hex_val % two_hex_digits\n",
    "    hex_val = hex_val >> 8\n",
    "    \n",
    "    green = hex_val % two_hex_digits\n",
    "    hex_val = hex_val >> 8\n",
    "    \n",
    "    red = hex_val % two_hex_digits\n",
    "    \n",
    "    print \"Red: %s Green: %s Blue: %s\" % (red, green, blue)\n",
    "    \n",
    "\n",
    "# Method that will run the program\n",
    "def convert():\n",
    "    while True:\n",
    "        option = (raw_input(\"Enter 1 to convert RGB to HEX.\\nEnter 2 to convert HEX to RGB.\\nEnter X to Exit: \")).lower()\n",
    "        \n",
    "        if option == \"1\":\n",
    "            print \"Converting RGB to HEX...\"\n",
    "            time.sleep(1)\n",
    "            rgb_hex()\n",
    "            \n",
    "        elif option == \"2\":\n",
    "            print \"Converting HEX to RGB\"\n",
    "            time.sleep(1)\n",
    "            hex_rgb()\n",
    "            \n",
    "        elif option == \"X\":\n",
    "            break\n",
    "            \n",
    "        else:\n",
    "            print \"Error\"\n",
    "            \n",
    "\n",
    "convert()"
   ]
  },
  {
   "cell_type": "code",
   "execution_count": 11,
   "metadata": {},
   "outputs": [
    {
     "name": "stdout",
     "output_type": "stream",
     "text": [
      "I'm a yellow lemon and I taste sour.\n",
      "Yep! I'm edible.\n"
     ]
    }
   ],
   "source": [
    "# What is a class?\n",
    "# The functions of an object are called its methods\n",
    "\n",
    "class Fruit(object):\n",
    "    \"\"\"A class that makes various tasty fruits.\"\"\"\n",
    "    def __init__(self, name, color, flavor, poisonous):\n",
    "        self.name = name\n",
    "        self.color = color\n",
    "        self.flavor = flavor\n",
    "        self.poisonous = poisonous\n",
    "\n",
    "# Note that all methods in the \"Fruit\" class always refer to self\n",
    "    def description(self):\n",
    "        print \"I'm a %s %s and I taste %s.\" % (self.color, self.name, self.flavor)\n",
    "        \n",
    "    def is_edible(self):\n",
    "        if not self.poisonous:\n",
    "            print \"Yep! I'm edible.\"\n",
    "        else:\n",
    "            print \"Don't eat me! I am super poisonous.\"\n",
    "\n",
    "lemon = Fruit(\"lemon\", \"yellow\", \"sour\", False)\n",
    "\n",
    "lemon.description()\n",
    "lemon.is_edible()\n"
   ]
  },
  {
   "cell_type": "code",
   "execution_count": 7,
   "metadata": {},
   "outputs": [
    {
     "name": "stdout",
     "output_type": "stream",
     "text": [
      "Jeffrey 2 True US\n",
      "Bruce 1 False\n",
      "Chad 7 True\n"
     ]
    }
   ],
   "source": [
    "# Class definition\n",
    "class Animal(object):\n",
    "    \"\"\"Makes cute animals.\"\"\"\n",
    "    # For initializing our instance objects\n",
    "    def __init__(self, name, age, is_hungry, location):\n",
    "        self.name = name\n",
    "        self.age = age\n",
    "        self.is_hungry = is_hungry\n",
    "        self.location = location\n",
    "\n",
    "# Note that self is only used in the __init__()\n",
    "# function definition; we don't need to pass it\n",
    "# to our instance objects.\n",
    "\n",
    "zebra = Animal(\"Jeffrey\", 2, True, \"BG\")\n",
    "giraffe = Animal(\"Bruce\", 1, False, \"EU\")\n",
    "panda = Animal(\"Chad\", 7, True, \"US\")\n",
    "\n",
    "\n",
    "\n",
    "print zebra.name, zebra.age, zebra.is_hungry, panda.location\n",
    "print giraffe.name, giraffe.age, giraffe.is_hungry\n",
    "print panda.name, panda.age, panda.is_hungry\n"
   ]
  },
  {
   "cell_type": "code",
   "execution_count": 15,
   "metadata": {},
   "outputs": [
    {
     "name": "stdout",
     "output_type": "stream",
     "text": [
      "200.0\n"
     ]
    }
   ],
   "source": [
    "class Employee(object):\n",
    "    \"\"\"Models real-life employees!\"\"\"\n",
    "    def __init__(self, employee_name):\n",
    "        self.employee_name = employee_name\n",
    "\n",
    "    def calculate_wage(self, hours):\n",
    "        self.hours = hours\n",
    "        return hours * 20.00\n",
    "\n",
    "# Add your code below!\n",
    "class PartTimeEmployee(Employee):\n",
    "    def calculate_wage(self, hours):\n",
    "        self.hours = hours\n",
    "        return self.hours * 12.00\n",
    "  \n",
    "    def full_time_wage(self, hours):\n",
    "        return super(PartTimeEmployee, self).calculate_wage(hours)\n",
    "\n",
    "\n",
    "milton = PartTimeEmployee(\"Joe\")\n",
    "print milton.full_time_wage(10)\n"
   ]
  },
  {
   "cell_type": "code",
   "execution_count": 20,
   "metadata": {},
   "outputs": [
    {
     "name": "stdout",
     "output_type": "stream",
     "text": [
      "3\n",
      "True\n"
     ]
    }
   ],
   "source": [
    "class Triangle(object):\n",
    "    def __init__(self, angle1, angle2, angle3):\n",
    "        self.angle1 = angle1\n",
    "        self.angle2 = angle2\n",
    "        self.angle3 = angle3\n",
    "    \n",
    "    number_of_sides = 3\n",
    "    \n",
    "    def check_angles(self):\n",
    "        if (self.angle1 + self.angle2 + self.angle3 == 180):\n",
    "            return True\n",
    "        else:\n",
    "            return False\n",
    "    \n",
    "my_triangle = Triangle(20, 100, 60) \n",
    "print my_triangle.number_of_sides\n",
    "print my_triangle.check_angles()\n",
    "\n",
    "  "
   ]
  },
  {
   "cell_type": "code",
   "execution_count": null,
   "metadata": {
    "collapsed": true
   },
   "outputs": [],
   "source": []
  },
  {
   "cell_type": "markdown",
   "metadata": {
    "collapsed": true
   },
   "source": []
  },
  {
   "cell_type": "code",
   "execution_count": null,
   "metadata": {
    "collapsed": true
   },
   "outputs": [],
   "source": [
    "\"\"\"\n",
    "DNA Analysis - Freeform project Module 12\n",
    "In this project, we'll use many of the concepts you've learned throughout the Python course\n",
    "in order to do some DNA analysis for a crime investigation.\n",
    "\"\"\"\n",
    "\n",
    "sample = ['GTA','GGG','CAC']\n",
    "\n",
    "\n",
    "# Given a file, read in the DNA for each suspect and save it as a string\n",
    "def read_dna(dna_file):\n",
    "    dna_data = \"\"\n",
    "    with open(dna_file, 'r') as f:\n",
    "        for line in f:\n",
    "            dna_data += line\n",
    "    return dna_data\n",
    "\n",
    "# Take a DNA string and split it into a list of codons\n",
    "def dna_codons(dna):\n",
    "    codons = []\n",
    "    for i in range(0, len(dna), 3):\n",
    "        if (i + 3) < len(dna):\n",
    "            codons.append(dna[i:i+3])\n",
    "    return codons\n",
    "\n",
    "# Iterate through a suspect's codon list to see how many of their codons match the sample codons\n",
    "def match_dna(dna):\n",
    "    matches = 0\n",
    "    for codon in dna:\n",
    "        if codon in sample:\n",
    "            matches += 1\n",
    "    return matches\n",
    "        \n",
    "# Pick the right suspect to continue the investigation on\n",
    "def is_criminal(dna_sample):\n",
    "    dna_data = read_dna(dna_sample)\n",
    "    codons = dna_codons(dna_data)\n",
    "    num_matches = match_dna(codons)\n",
    "    \n",
    "    if num_matches >= 3:\n",
    "        print \"We found %s matches for a suspect, and the investigation should continue\" % str(num_matches)\n",
    "    \n",
    "    else:\n",
    "        print \"We found %s matches for a suspect, which is too few and the she can be set free\" % str(num_matches)\n",
    "\n"
   ]
  },
  {
   "cell_type": "code",
   "execution_count": null,
   "metadata": {
    "collapsed": true
   },
   "outputs": [],
   "source": []
  },
  {
   "cell_type": "code",
   "execution_count": 2,
   "metadata": {
    "collapsed": true
   },
   "outputs": [],
   "source": [
    "\"\"\"\n",
    "Bank Account - Freeform project Module 11\n",
    "In this project, we'll create a Python class that can be used to create and manipulate a personal bank account.\n",
    "\n",
    "The bank account class you'll create should have methods for each of the following:\n",
    "- Accepting deposits\n",
    "- Allowing withdrawals\n",
    "- Showing the balance\n",
    "- Showing the details of the account\n",
    "\"\"\"\n",
    "\n",
    "class BankAccount(object):\n",
    "    balance = 0\n",
    "\n",
    "    def __init__(self, name):\n",
    "        self.name = name\n",
    "        \n",
    "    def __repr__(self):\n",
    "        return \"This is %s's account with a balance of $%.2f\" % (self.name, self.balance)\n",
    "      \n",
    "    # method to print an account's balance\n",
    "    def show_balance(self):\n",
    "        return \"This account's balance is $%.2f\" (self.balance)\n",
    "\n",
    "    # method to print an account's balance\n",
    "    def deposit(self, amount):\n",
    "        if amount <= 0:\n",
    "            print \"You have entered an invalid deposit amount\"\n",
    "            return\n",
    "        else:\n",
    "            return \"You have deposited $%.2f\" % amount\n",
    "            balance += amount\n",
    "        "
   ]
  },
  {
   "cell_type": "code",
   "execution_count": null,
   "metadata": {
    "collapsed": true
   },
   "outputs": [],
   "source": []
  },
  {
   "cell_type": "code",
   "execution_count": null,
   "metadata": {
    "collapsed": true
   },
   "outputs": [],
   "source": []
  },
  {
   "cell_type": "code",
   "execution_count": null,
   "metadata": {
    "collapsed": true
   },
   "outputs": [],
   "source": []
  }
 ],
 "metadata": {
  "kernelspec": {
   "display_name": "Python [conda env:py27]",
   "language": "python",
   "name": "conda-env-py27-py"
  },
  "language_info": {
   "codemirror_mode": {
    "name": "ipython",
    "version": 2
   },
   "file_extension": ".py",
   "mimetype": "text/x-python",
   "name": "python",
   "nbconvert_exporter": "python",
   "pygments_lexer": "ipython2",
   "version": "2.7.13"
  }
 },
 "nbformat": 4,
 "nbformat_minor": 2
}
